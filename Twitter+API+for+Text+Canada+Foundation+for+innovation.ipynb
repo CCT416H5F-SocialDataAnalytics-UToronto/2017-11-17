{
 "cells": [
  {
   "cell_type": "code",
   "execution_count": 1,
   "metadata": {
    "collapsed": true
   },
   "outputs": [],
   "source": [
    "##We want to stream tweets that mention \"Canada Foundation for innovation\" and also analyze the sentiment"
   ]
  },
  {
   "cell_type": "code",
   "execution_count": 6,
   "metadata": {
    "collapsed": true
   },
   "outputs": [],
   "source": [
    "import tweepy\n",
    "from textblob import TextBlob"
   ]
  },
  {
   "cell_type": "code",
   "execution_count": 7,
   "metadata": {
    "collapsed": true
   },
   "outputs": [],
   "source": [
    "##auth = tweepy.OAuthandler(consumer_key, consumer secret)\n",
    "##auth.set_access_token(access_token, token_secret)\n",
    "\n",
    "auth = tweepy.OAuthHandler(\"Tqm5SPYuQw4jp4j6DaRf9gmEn\", \"Pr8UM6P7AF9MW1y4sxpdCCrGUOkLDTA185wxvH6tJph20NyFon\")\n",
    "auth.set_access_token(\"3874992389-l3irrEYsKbXAFFhY9nKGiG4xe3iJEV0nuFUim88\", \"vh7F7Zasam4hyHp7bIVz95zXNvjl0dKGjQGWIW9VCOhOf\")"
   ]
  },
  {
   "cell_type": "code",
   "execution_count": 8,
   "metadata": {
    "collapsed": true
   },
   "outputs": [],
   "source": [
    "##We create an API object in order to get data from Twitter - for this we get in authentication\n",
    "api = tweepy.API(auth)"
   ]
  },
  {
   "cell_type": "code",
   "execution_count": 9,
   "metadata": {},
   "outputs": [
    {
     "name": "stdout",
     "output_type": "stream",
     "text": [
      "0 Sentiment(polarity=0.13636363636363635, subjectivity=0.45454545454545453) Canada Foundation of Innovation announced $4.7 million for new research https://t.co/ncuuw94hdj https://t.co/1SbKCi5ByM Hoje Innovation False\n",
      "1 Sentiment(polarity=0.0, subjectivity=0.0) RT @thePMCF: The Precision Medicine Program Receives $11.8 Million from the Canada Foundation for Innovation (CFI) https://t.co/bCHnPhbxyF… Debra Vivian False\n",
      "2 Sentiment(polarity=0.0, subjectivity=0.0) Canada Foundation for Innovation commits $3.8M towards robotic… https://t.co/ak5ZuugT7v Robotic Notes False\n",
      "3 Sentiment(polarity=-0.1, subjectivity=0.2) RT @HallieSiegel: Canada Foundation for Innovation commits $3.8M towards robotic ocean observing facility  https://t.co/t0fYSqYQ7h Cristina Andersson False\n",
      "4 Sentiment(polarity=0.0, subjectivity=0.0) RT @thePMCF: The Precision Medicine Program Receives $11.8 Million from the Canada Foundation for Innovation (CFI) https://t.co/bCHnPhbxyF… PIER MARIA FORNASARI False\n",
      "5 Sentiment(polarity=0.0, subjectivity=0.0) RT @thePMCF: The Precision Medicine Program Receives $11.8 Million from the Canada Foundation for Innovation (CFI) https://t.co/bCHnPhbxyF… Innovation Retweeter False\n",
      "6 Sentiment(polarity=0.0, subjectivity=0.0) RT @thePMCF: The Precision Medicine Program Receives $11.8 Million from the Canada Foundation for Innovation (CFI) https://t.co/bCHnPhbxyF… University Health Network False\n",
      "7 Sentiment(polarity=0.0, subjectivity=0.0) RT @thePMCF: The Precision Medicine Program Receives $11.8 Million from the Canada Foundation for Innovation (CFI) https://t.co/bCHnPhbxyF… Nick Taylor - CGO False\n",
      "8 Sentiment(polarity=0.0, subjectivity=0.0) RT @thePMCF: The Precision Medicine Program Receives $11.8 Million from the Canada Foundation for Innovation (CFI) https://t.co/bCHnPhbxyF… Radiation Medicine False\n",
      "9 Sentiment(polarity=0.0, subjectivity=0.0) RT @thePMCF: The Precision Medicine Program Receives $11.8 Million from the Canada Foundation for Innovation (CFI) https://t.co/bCHnPhbxyF… Benjamin Haibe-Kains False\n",
      "10 Sentiment(polarity=0.0, subjectivity=0.0) RT @thePMCF: The Precision Medicine Program Receives $11.8 Million from the Canada Foundation for Innovation (CFI) https://t.co/bCHnPhbxyF… RAMA False\n",
      "11 Sentiment(polarity=0.0, subjectivity=0.0) RT @thePMCF: The Precision Medicine Program Receives $11.8 Million from the Canada Foundation for Innovation (CFI) https://t.co/bCHnPhbxyF… Marco Gallo False\n",
      "12 Sentiment(polarity=0.0, subjectivity=0.0) RT @thePMCF: The Precision Medicine Program Receives $11.8 Million from the Canada Foundation for Innovation (CFI) https://t.co/bCHnPhbxyF… Brad Wouters False\n",
      "13 Sentiment(polarity=0.0, subjectivity=0.0) RT @thePMCF: The Precision Medicine Program Receives $11.8 Million from the Canada Foundation for Innovation (CFI) https://t.co/bCHnPhbxyF… Paul Alofs False\n",
      "14 Sentiment(polarity=0.0, subjectivity=0.0) RT @thePMCF: The Precision Medicine Program Receives $11.8 Million from the Canada Foundation for Innovation (CFI) https://t.co/bCHnPhbxyF… Sandra Mac False\n",
      "15 Sentiment(polarity=0.0, subjectivity=0.0) RT @thePMCF: The Precision Medicine Program Receives $11.8 Million from the Canada Foundation for Innovation (CFI) https://t.co/bCHnPhbxyF… Karen Moores False\n",
      "16 Sentiment(polarity=0.0, subjectivity=0.0) The Precision Medicine Program Receives $11.8 Million from the Canada Foundation for Innovation (CFI)… https://t.co/gzRXoPttsw Princess Margaret CF False\n"
     ]
    },
    {
     "data": {
      "image/png": "[encoded data removed]",
      "text/plain": [
       "<matplotlib.figure.Figure at 0x11a753978>"
      ]
     },
     "metadata": {},
     "output_type": "display_data"
    }
   ],
   "source": [
    "query = 'Canada Foundation for innovation'\n",
    "max_tweets = 1000\n",
    "searched_tweets = [status for status in tweepy.Cursor(api.search, q=query).items(max_tweets)]\n",
    "polarities = []\n",
    "for idx, res in enumerate(searched_tweets):\n",
    "    b = TextBlob(res.text)\n",
    "    polarities.append(b.sentiment.polarity)\n",
    "    print(idx,b.sentiment, res.text, res.user.name, res.retweeted)\n",
    "\n",
    "import matplotlib.pyplot as plt\n",
    "\n",
    "%matplotlib inline\n",
    "\n",
    "plt.plot(polarities)\n",
    "plt.show()"
   ]
  },
  {
   "cell_type": "code",
   "execution_count": null,
   "metadata": {
    "collapsed": true
   },
   "outputs": [],
   "source": []
  }
 ],
 "metadata": {
  "kernelspec": {
   "display_name": "Python 3",
   "language": "python",
   "name": "python3"
  },
  "language_info": {
   "codemirror_mode": {
    "name": "ipython",
    "version": 3
   },
   "file_extension": ".py",
   "mimetype": "text/x-python",
   "name": "python",
   "nbconvert_exporter": "python",
   "pygments_lexer": "ipython3",
   "version": "3.6.1"
  }
 },
 "nbformat": 4,
 "nbformat_minor": 2
}
